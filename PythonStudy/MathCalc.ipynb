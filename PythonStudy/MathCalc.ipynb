{
 "cells": [
  {
   "cell_type": "code",
   "execution_count": 1,
   "metadata": {
    "collapsed": true
   },
   "outputs": [
    {
     "data": {
      "text/plain": "<IPython.core.display.Latex object>",
      "text/latex": "$$\\frac{r^{2} u \\sin{\\left(t \\right)}}{2 \\left(d^{2} - 2 d r \\cos{\\left(t \\right)} + r^{2}\\right)^{1.5}}=\\frac{r^{2} u \\left(\\begin{cases} - \\frac{\\cos{\\left(t \\right)}}{\\left(r^{2}\\right)^{1.5}} & \\text{for}\\: d = 0 \\\\- \\frac{\\cos{\\left(t \\right)}}{\\left(d^{2}\\right)^{1.5}} & \\text{for}\\: r = 0 \\\\- \\frac{1.0}{d r \\left(d^{2} - 2 d r \\cos{\\left(t \\right)} + r^{2}\\right)^{0.5}} & \\text{otherwise} \\end{cases}\\right)}{2}=\\frac{r^{2} u \\left(\\begin{cases} - \\frac{\\cos{\\left(t \\right)}}{\\left(r^{2}\\right)^{1.5}} & \\text{for}\\: d = 0 \\\\- \\frac{\\cos{\\left(t \\right)}}{\\left(d^{2}\\right)^{1.5}} & \\text{for}\\: r = 0 \\\\- \\frac{1.0}{d r \\left(d^{2} - 2 d r \\cos{\\left(t \\right)} + r^{2}\\right)^{0.5}} & \\text{otherwise} \\end{cases}\\right)}{2}$$"
     },
     "metadata": {},
     "output_type": "display_data"
    }
   ],
   "source": [
    "from IPython.display import display, Latex\n",
    "import sympy as sy\n",
    "\n",
    "u, t, d, r = sy.symbols('u t d r')\n",
    "sy.init_printing(use_unicode=True)\n",
    "\n",
    "B = (u / 2) * (((r ** 2) * sy.sin(t))/((r ** 2 + d ** 2 - 2 * r * d * sy.cos(t))**(3/2)))\n",
    "\n",
    "int1 = sy.Integral(B, t)\n",
    "display(Latex(f\"$${sy.latex(B)}={sy.latex(int1.doit())}={sy.latex(sy.integrate(B, t))}$$\"))\n"
   ]
  }
 ],
 "metadata": {
  "kernelspec": {
   "display_name": "Python 3",
   "language": "python",
   "name": "python3"
  },
  "language_info": {
   "codemirror_mode": {
    "name": "ipython",
    "version": 2
   },
   "file_extension": ".py",
   "mimetype": "text/x-python",
   "name": "python",
   "nbconvert_exporter": "python",
   "pygments_lexer": "ipython2",
   "version": "2.7.6"
  }
 },
 "nbformat": 4,
 "nbformat_minor": 0
}